{
 "cells": [
  {
   "cell_type": "markdown",
   "metadata": {},
   "source": [
    "# ORIE 5355/INFO 5370 HW 1: Survey Weighting Solutions"
   ]
  },
  {
   "cell_type": "code",
   "execution_count": 1,
   "metadata": {},
   "outputs": [],
   "source": [
    "import warnings\n",
    "warnings.filterwarnings('ignore')\n",
    "import seaborn as sns"
   ]
  },
  {
   "cell_type": "markdown",
   "metadata": {},
   "source": [
    "# Conceptual component"
   ]
  },
  {
   "cell_type": "markdown",
   "metadata": {},
   "source": [
    "### 1) Reading"
   ]
  },
  {
   "cell_type": "markdown",
   "metadata": {},
   "source": [
    "**Please read Sections 3 and 4 (pages 6-13) here: https://www.nber.org/system/files/working_papers/w20830/w20830.pdf, and answer the following questions.**"
   ]
  },
  {
   "cell_type": "markdown",
   "metadata": {},
   "source": [
    "**Please summarize the sections in no more than two sentences.**"
   ]
  },
  {
   "cell_type": "markdown",
   "metadata": {},
   "source": [
    " <font color='green'>\n",
    "    Key points:\n",
    "    \n",
    " - Ebay's positivity rating system is highly skewed towards positive reviews\n",
    "    \n",
    " - The authors construct a measure of unobservable seller quality (EPP) which is more effective"
   ]
  },
  {
   "cell_type": "markdown",
   "metadata": {},
   "source": [
    "**Do you think it's a problem that most ratings are positive? If so, why? Answer in no more than three sentences. Please incorporate concepts discussed in class in your answer.**"
   ]
  },
  {
   "cell_type": "markdown",
   "metadata": {},
   "source": [
    " <font color='green'>\n",
    "    Key points:\n",
    "    \n",
    " - Yes, because if equivalent number of experiences are not positive, then mismatch between construct and measurement\n",
    "    \n",
    " - Downstream task -- if we want to remove bad sellers, all positive ratings prevent us from identifying them"
   ]
  },
  {
   "cell_type": "markdown",
   "metadata": {},
   "source": [
    "### 2) Personal reflection"
   ]
  },
  {
   "cell_type": "markdown",
   "metadata": {},
   "source": [
    "**Think back to a time that you trained a model on data from people or gathered opinions via a survey (an informal one is fine). If you have not done that before, you may answer these questions about an article in the news that reported on public opinions or a model that you think might be in deployment at a company or organization with which you interact (for example, Amazon, google maps, etc)**"
   ]
  },
  {
   "cell_type": "markdown",
   "metadata": {},
   "source": [
    "**Briefly summarize the scenario in no more than two sentences.**"
   ]
  },
  {
   "cell_type": "markdown",
   "metadata": {},
   "source": [
    "*By Lars Kouwenhoven:* Last year, for the Product Studio course, I designed a survey to look into the interest levels of an app that we ideated, which would make it easier for people to use micromobility in cities by aggregating data from different providors."
   ]
  },
  {
   "cell_type": "markdown",
   "metadata": {},
   "source": [
    "*By Novan Zakkia:* When I was working for Siemens Energy, Indonesia, as a Project Manager before joining Cornell, I routinely conducted \"customer satisfaction survey\" annually. The surveys were given to the relevant stakeholders involved in each project that Siemens completed as well as each project that was still on-going at the time to evaluate their satisfaction level on our team's performance in handling their projects."
   ]
  },
  {
   "cell_type": "markdown",
   "metadata": {},
   "source": [
    "*By Ogulcan Bayol:* When I was working for an e-commerce start-up as a data analyst/scientist, we were asked to incorporate the order experience ratings, which were out of 5, to assess each franchise operating under the business. Now that I know about the measurement/mapping problem and differential non-response, I can clearly see what went wrong here: people don't map measurements to categories the same way and people who don't want to be contacted afterwards avoid giving feedback altogether."
   ]
  },
  {
   "cell_type": "markdown",
   "metadata": {},
   "source": [
    "**What was the construct that you cared about/wanted to measure? What was the measurement (numerical data)? In what ways did the measurement not match the construct you cared about? Answer in no more than 4 sentences.** "
   ]
  },
  {
   "cell_type": "markdown",
   "metadata": {},
   "source": [
    "*By Lars Kouwenhoven:*\n",
    "We were interested in the likelihood of people using our app. We measured this by first\n",
    "describing the app in detail, and then asking the question, \"\"How likely are you to use this app\",\n",
    "where opinions were gathered on a scale from 1 to 5. The measurement did not fully match the\n",
    "construct we cared about, since people's expressed opinion (in this case, the expectation of how\n",
    "often they would use the app), often does not line up with their true opinions or behaviour."
   ]
  },
  {
   "cell_type": "markdown",
   "metadata": {},
   "source": [
    "*By Novan Zakkia:* The construct that I wanted to measure was how satisfied the customers were with our team's performance in handling their projects, specifically to evaluate our business unit's team performance (sales, proposals, engineers, and project managers of Siemens Energy - Process Solutions). That being said, the survey was meant to evaluate not only how well our team had performed during the project execution phase, but also during the pre-execution phase (sales & proposal handling).\n",
    "\n",
    "The measurement that I used was a 1-10 rating (1 - least satisfied, 10 - most satisfied) for each question that I gave in the survey's questionnaire (in total, the survey consisted of 10 questions per project phase - the survey was divided into two surveys: one specifically suited for \"pre-execution phase\" and another one for \"execution phase\")"
   ]
  },
  {
   "cell_type": "markdown",
   "metadata": {},
   "source": [
    "*By Ogulcan Bayol:* The construct we cared about was to what extent the customer was satisfied with the entire order experience. 1-5 Ratings were interpreted at the start-up in the following way: 1) Awful 2) Bad 3) Average 4) Good 5) Outstanding. But, these word explanations had never been shared with the customers. Also, our customer service team used negative ratings to directly contact customers and get feedback. The measurement did not exactly match the construct we cared about because each individual has a different sense of what these numerical ratings mean. By giving a 4, someone might mean not good enough, while another might mean pretty good. Also, people who had a negative experience were probably more likely to avoid giving a rating altogether for various reasons, including social desirability and not being disturbed, skewing the ratings more to the positive side."
   ]
  },
  {
   "cell_type": "markdown",
   "metadata": {},
   "source": [
    "**What selection biases/differential non-response issues occurred and how did it affect your measurement? (If your answer is \"None,\" explain exactly why you believe the assumptions discussed in class were met). Answer in no more than 3 sentences.**"
   ]
  },
  {
   "cell_type": "markdown",
   "metadata": {},
   "source": [
    "*By Lars Kouwenhoven:* There were certainly selection biases in the sample that we used, mainly owing to the fact that it was easiest for us to survey other students. These students are likely to share certain characteristics, and more importantly, may be more used to using apps in their day-to-day life. If we had had a better-represented sample of the population, we would probably have surveyed people who do not even own a smartphone, i.e. for whom our app was not a solution at all."
   ]
  },
  {
   "cell_type": "markdown",
   "metadata": {},
   "source": [
    "*By Novan Zakkia:* I would say that first, it was highly probable that some employees didn't give true opinion about a certain project (this is the selection bias issue), and second, the respondents who responded to my surveys didn't completely represent the true population that I should have cared about, which appeared to be the specific differential non-response issue that I faced. \n",
    "\n",
    "The selection bias issue occurred due to the fact that some respondents chose to give good scores on the surveys even though objectively speaking, one of the projects had many problems during the execution (e.g., delivery delays, on-site commissioning troubles, etc.), potentially because the project team successfully maintained a good relationship with these respondents despite the project issues (causing \"social desirability\" to occur), while some customer's employees who could give \"true feedback\" chose not to answer the survey.\n",
    "\n",
    "Speaking of differential response, the surveys were sent to the relevant persons involved in the project (mid to lower level employees of the customer's team such as project manager, engineers, procurement, site management, etc.), but only those who had corporate emails, not enabling some employees to participate in the survey (especially those working on site for construction activities were contract-based employees who didn't have corporate\n",
    "emails)"
   ]
  },
  {
   "cell_type": "markdown",
   "metadata": {},
   "source": [
    "*By Ogulcan Bayol:* As mentioned above, our customer service team used negative reviews to reach out to customers to get feedback. But, it is very conceivable that people who had a negative experience were more likely to avoid giving a rating because of various reasons, including not being bothered. Similar to what's mentioned in the reading, this caused ratings to be inflated."
   ]
  },
  {
   "cell_type": "markdown",
   "metadata": {},
   "source": [
    "**Given what we have learned in class so far, what would you do differently if faced with the same scenario again? Answer in no more than 3 sentences.**"
   ]
  },
  {
   "cell_type": "markdown",
   "metadata": {},
   "source": [
    "*By Lars Kouwenhoven:* First, I would have phrased the potential answers to the question differently: instead of asking to rank on a scale from 1 to 5, I would have quantified this information, such as 'daily/once a week/not at all' etc. Additionally, I would either try to source a better sample population, and if this proves to be hard, perform some sort of weighting on the groups for which we collected information."
   ]
  },
  {
   "cell_type": "markdown",
   "metadata": {},
   "source": [
    "*By Novan Zakkia:* To avoid the selection bias that I faced, specifically to address the social desirability issue I would allow anonymous response so that respondents wouldn't need to worry about how their feedback would affect their relationships with Siemens' project team they worked with. Then, another thing that I would do differently is to make sure that the surveys are sent to all the relevant stakeholders from top to bottom (top-level management to lower-level staff), depending on the relevance of each stakeholder with the specific project. In fact, some projects are considered more critical than the others, causing these projects to be also closely monitored by the top-level management, while some other projects are particularly just small projects which may not need any respondents from the top-level management."
   ]
  },
  {
   "cell_type": "markdown",
   "metadata": {},
   "source": [
    "*By Ogulcan Bayol:* To address the first problem, at least to some extent, I would start off by making these verbal descriptions available to the customers so that their understanding of how to map measurements could be more standardized. However, standardization wouldn't necessarily end here because I would need to see if there were other factors that still caused discrepancies; one example we mentioned in class was regional/cultural discrepancies. To address the second problem, I would need to leverage the uncertainty quantification methods that we talked about during lecture 4, namely making assumptions on whether respond and opinion differences to quantify how far $\\hat{y}$ can be from $y$, because $y$ depends on a covariate that we don't know the population distribution of, namely whether or not there's a negative experience.\n"
   ]
  },
  {
   "cell_type": "markdown",
   "metadata": {},
   "source": [
    "# Programming component"
   ]
  },
  {
   "cell_type": "markdown",
   "metadata": {},
   "source": [
    "**In this part of the homework, we provide you with data from a poll in Florida before the 2016 Presidential election in the United States. We also provide you with (one pollster's) estimates of who will vote in the 2016 election, made before the election. You will use this data and apply the weighting techniques covered in class.**"
   ]
  },
  {
   "cell_type": "markdown",
   "metadata": {},
   "source": [
    "## Preliminaries to load packages and data"
   ]
  },
  {
   "cell_type": "code",
   "execution_count": 2,
   "metadata": {
    "ExecuteTime": {
     "end_time": "2021-09-01T20:57:32.311779Z",
     "start_time": "2021-09-01T20:57:32.270775Z"
    }
   },
   "outputs": [],
   "source": [
    "import pandas as pd\n",
    "import numpy as np\n",
    "dfpoll = pd.read_csv('polling_data_hw1.csv') # raw polling data\n",
    "dfdemographic = pd.read_csv('florida_proportions_hw1.csv') # proportions of population"
   ]
  },
  {
   "cell_type": "markdown",
   "metadata": {},
   "source": [
    "dfdemographic contains estimates of likely voters in Florida in 2016. When Demographic_Type_2 is NaN, the row refers to just the marginal population percentage of the group in Demographic_1 of type Demographic_Type_1. When it is not NaN, the row has the joint distribution of the corresponding demographic groups."
   ]
  },
  {
   "cell_type": "markdown",
   "metadata": {},
   "source": [
    "<font color='green'> In the solutions, we'll often do things 2 ways. One way often uses _for_ loops, which is typically not desirable in Python but is often easier to understand. The second set of solutions is more \"Pythonic\" but may be harder to understand if you're not used to Pandas. I encourage you to try to understand the Pandas way."
   ]
  },
  {
   "cell_type": "markdown",
   "metadata": {},
   "source": [
    "## Part A: Raw visualization"
   ]
  },
  {
   "cell_type": "markdown",
   "metadata": {},
   "source": [
    "**Here, we'll visualize whether the respondents in the poll match the likely voter estimates. Create a scatter-plot where each point represents one Demographic group (for example, party-Independent), where the X axis is the Electoral_Proportion in dfdemographic, and the Y axis is the proportion in dfpoll.**"
   ]
  },
  {
   "cell_type": "code",
   "execution_count": 3,
   "metadata": {},
   "outputs": [
    {
     "data": {
      "text/plain": [
       "Text(0, 0.5, 'Poll Proportion')"
      ]
     },
     "execution_count": 3,
     "metadata": {},
     "output_type": "execute_result"
    },
    {
     "data": {
      "image/png": "[encoded data removed]",
      "text/plain": [
       "<Figure size 432x288 with 1 Axes>"
      ]
     },
     "metadata": {
      "needs_background": "light"
     },
     "output_type": "display_data"
    }
   ],
   "source": [
    "dfdemographic['dfpoll proportion'] = np.nan\n",
    "\n",
    "for i in range(len(dfdemographic)):\n",
    "    demo1 = dfdemographic['Demographic_Type_1'][i]\n",
    "    demotype1 = dfdemographic['Demographic_1'][i]\n",
    "    if dfdemographic['Demographic_Type_2'][i]!=dfdemographic['Demographic_Type_2'][i]: #cheap python trick to check for nan. \n",
    "        #X=np.nan is the only python value for which X==X evaluates to false\n",
    "        real_prop = len(dfpoll[dfpoll[demo1]==demotype1])/len(dfpoll)\n",
    "        dfdemographic['dfpoll proportion'][i] = real_prop\n",
    "    else:\n",
    "        demo2 = dfdemographic['Demographic_Type_2'][i]\n",
    "        demotype2 = dfdemographic['Demographic_2'][i]\n",
    "        real_prop = len(dfpoll[(dfpoll[demo1]==demotype1)&(dfpoll[demo2]==demotype2)])/len(dfpoll)\n",
    "        dfdemographic['dfpoll proportion'][i] = real_prop\n",
    "\n",
    "import matplotlib.pyplot as plt\n",
    "\n",
    "plt.scatter(dfdemographic['Electoral_Proportion'], dfdemographic['dfpoll proportion'])\n",
    "x = np.linspace(0,0.7,200)\n",
    "plt.plot(x,x)\n",
    "plt.xlabel(\"Electoral Proportion\")\n",
    "plt.ylabel(\"Poll Proportion\")"
   ]
  },
  {
   "cell_type": "markdown",
   "metadata": {},
   "source": [
    "<font color='green'> Bonus points for pretty visualization"
   ]
  },
  {
   "cell_type": "markdown",
   "metadata": {},
   "source": [
    "**Which group is most over-represented? Most under-represented?**"
   ]
  },
  {
   "cell_type": "code",
   "execution_count": 4,
   "metadata": {},
   "outputs": [],
   "source": [
    "dfdemographic['Difference'] = dfdemographic['dfpoll proportion']-dfdemographic['Electoral_Proportion']"
   ]
  },
  {
   "cell_type": "code",
   "execution_count": 5,
   "metadata": {},
   "outputs": [
    {
     "data": {
      "text/html": [
       "<div>\n",
       "<style scoped>\n",
       "    .dataframe tbody tr th:only-of-type {\n",
       "        vertical-align: middle;\n",
       "    }\n",
       "\n",
       "    .dataframe tbody tr th {\n",
       "        vertical-align: top;\n",
       "    }\n",
       "\n",
       "    .dataframe thead th {\n",
       "        text-align: right;\n",
       "    }\n",
       "</style>\n",
       "<table border=\"1\" class=\"dataframe\">\n",
       "  <thead>\n",
       "    <tr style=\"text-align: right;\">\n",
       "      <th></th>\n",
       "      <th>Demographic_Type_1</th>\n",
       "      <th>Demographic_Type_2</th>\n",
       "      <th>Demographic_1</th>\n",
       "      <th>Demographic_2</th>\n",
       "      <th>Difference</th>\n",
       "    </tr>\n",
       "  </thead>\n",
       "  <tbody>\n",
       "    <tr>\n",
       "      <th>2</th>\n",
       "      <td>party</td>\n",
       "      <td>NaN</td>\n",
       "      <td>Independent</td>\n",
       "      <td>NaN</td>\n",
       "      <td>0.135043</td>\n",
       "    </tr>\n",
       "  </tbody>\n",
       "</table>\n",
       "</div>"
      ],
      "text/plain": [
       "  Demographic_Type_1 Demographic_Type_2 Demographic_1 Demographic_2  \\\n",
       "2              party                NaN   Independent           NaN   \n",
       "\n",
       "   Difference  \n",
       "2    0.135043  "
      ]
     },
     "execution_count": 5,
     "metadata": {},
     "output_type": "execute_result"
    }
   ],
   "source": [
    "dfdemographic[dfdemographic['Difference'] == np.max(dfdemographic['Difference'])][['Demographic_Type_1',\n",
    "                                    'Demographic_Type_2','Demographic_1','Demographic_2','Difference']]"
   ]
  },
  {
   "cell_type": "code",
   "execution_count": 6,
   "metadata": {},
   "outputs": [
    {
     "data": {
      "text/html": [
       "<div>\n",
       "<style scoped>\n",
       "    .dataframe tbody tr th:only-of-type {\n",
       "        vertical-align: middle;\n",
       "    }\n",
       "\n",
       "    .dataframe tbody tr th {\n",
       "        vertical-align: top;\n",
       "    }\n",
       "\n",
       "    .dataframe thead th {\n",
       "        text-align: right;\n",
       "    }\n",
       "</style>\n",
       "<table border=\"1\" class=\"dataframe\">\n",
       "  <thead>\n",
       "    <tr style=\"text-align: right;\">\n",
       "      <th></th>\n",
       "      <th>Demographic_Type_1</th>\n",
       "      <th>Demographic_Type_2</th>\n",
       "      <th>Demographic_1</th>\n",
       "      <th>Demographic_2</th>\n",
       "      <th>Difference</th>\n",
       "    </tr>\n",
       "  </thead>\n",
       "  <tbody>\n",
       "    <tr>\n",
       "      <th>13</th>\n",
       "      <td>education</td>\n",
       "      <td>NaN</td>\n",
       "      <td>High School</td>\n",
       "      <td>NaN</td>\n",
       "      <td>-0.177084</td>\n",
       "    </tr>\n",
       "  </tbody>\n",
       "</table>\n",
       "</div>"
      ],
      "text/plain": [
       "   Demographic_Type_1 Demographic_Type_2 Demographic_1 Demographic_2  \\\n",
       "13          education                NaN   High School           NaN   \n",
       "\n",
       "    Difference  \n",
       "13   -0.177084  "
      ]
     },
     "execution_count": 6,
     "metadata": {},
     "output_type": "execute_result"
    }
   ],
   "source": [
    "dfdemographic[dfdemographic['Difference'] == np.min(dfdemographic['Difference'])][['Demographic_Type_1',\n",
    "                                    'Demographic_Type_2','Demographic_1','Demographic_2','Difference']]"
   ]
  },
  {
   "cell_type": "markdown",
   "metadata": {},
   "source": [
    "## Part B: Weighting"
   ]
  },
  {
   "cell_type": "code",
   "execution_count": 7,
   "metadata": {},
   "outputs": [],
   "source": [
    "all_clinton_vals = [] # keep track of all estimates along the way"
   ]
  },
  {
   "cell_type": "markdown",
   "metadata": {},
   "source": [
    "### 1) Raw average"
   ]
  },
  {
   "cell_type": "markdown",
   "metadata": {},
   "source": [
    "**For now, we'll ignore people who answered anything but \"Hillary Clinton\" or \"Donald Trump.\" Below, report the \"raw polling average,\" the percentage of people \"Hillary Clinton\" divided by the number who answered either Hillary or Trump.**"
   ]
  },
  {
   "cell_type": "code",
   "execution_count": 8,
   "metadata": {},
   "outputs": [
    {
     "data": {
      "text/plain": [
       "Hillary Clinton    0.545833\n",
       "Donald Trump       0.454167\n",
       "Name: candidate, dtype: float64"
      ]
     },
     "execution_count": 8,
     "metadata": {},
     "output_type": "execute_result"
    }
   ],
   "source": [
    "df = dfpoll.query('candidate == \"Hillary Clinton\" or candidate == \"Donald Trump\"')\n",
    "df.candidate.value_counts(normalize = True)"
   ]
  },
  {
   "cell_type": "code",
   "execution_count": 9,
   "metadata": {},
   "outputs": [],
   "source": [
    "all_clinton_vals.append(0.545833)"
   ]
  },
  {
   "cell_type": "markdown",
   "metadata": {},
   "source": [
    "### 2) Single dimensional marginal weighting (on just 1 demographic type)"
   ]
  },
  {
   "cell_type": "markdown",
   "metadata": {},
   "source": [
    "**For each demographic type separately -- age, gender, party, race, and education -- weight the poll by just that demographic type, in accordance to the population proportions given. Report the resulting poll results, and briefly (at most 3 sentences) describe what you observe.**\n",
    "\n",
    "**You'll notice that some of the groups in the polling data (\"refused\") do not show up in the population percentages. For now, we'll ignore those respondents.**"
   ]
  },
  {
   "cell_type": "code",
   "execution_count": 10,
   "metadata": {},
   "outputs": [
    {
     "data": {
      "text/html": [
       "<div>\n",
       "<style scoped>\n",
       "    .dataframe tbody tr th:only-of-type {\n",
       "        vertical-align: middle;\n",
       "    }\n",
       "\n",
       "    .dataframe tbody tr th {\n",
       "        vertical-align: top;\n",
       "    }\n",
       "\n",
       "    .dataframe thead th {\n",
       "        text-align: right;\n",
       "    }\n",
       "</style>\n",
       "<table border=\"1\" class=\"dataframe\">\n",
       "  <thead>\n",
       "    <tr style=\"text-align: right;\">\n",
       "      <th></th>\n",
       "      <th>party</th>\n",
       "      <th>candidate</th>\n",
       "    </tr>\n",
       "  </thead>\n",
       "  <tbody>\n",
       "    <tr>\n",
       "      <th>0</th>\n",
       "      <td>Democrat</td>\n",
       "      <td>0.845659</td>\n",
       "    </tr>\n",
       "    <tr>\n",
       "      <th>1</th>\n",
       "      <td>Independent</td>\n",
       "      <td>0.350993</td>\n",
       "    </tr>\n",
       "    <tr>\n",
       "      <th>2</th>\n",
       "      <td>Refused</td>\n",
       "      <td>0.444444</td>\n",
       "    </tr>\n",
       "    <tr>\n",
       "      <th>3</th>\n",
       "      <td>Republican</td>\n",
       "      <td>0.067797</td>\n",
       "    </tr>\n",
       "  </tbody>\n",
       "</table>\n",
       "</div>"
      ],
      "text/plain": [
       "         party  candidate\n",
       "0     Democrat   0.845659\n",
       "1  Independent   0.350993\n",
       "2      Refused   0.444444\n",
       "3   Republican   0.067797"
      ]
     },
     "execution_count": 10,
     "metadata": {},
     "output_type": "execute_result"
    }
   ],
   "source": [
    "dfpoll.groupby('party')['candidate'].aggregate(lambda x: sum(a == 'Hillary Clinton' for a in x)/len(x)).reset_index()"
   ]
  },
  {
   "cell_type": "markdown",
   "metadata": {},
   "source": [
    "The people who refused to answer party affiliation are also Trump-leaning, though not as much a margin as education."
   ]
  },
  {
   "cell_type": "markdown",
   "metadata": {},
   "source": [
    "<font color='green'> First version:"
   ]
  },
  {
   "cell_type": "code",
   "execution_count": 11,
   "metadata": {},
   "outputs": [],
   "source": [
    "def single_dimensional_weighting(dfpoll, dfdemographic, colname):\n",
    "    raw_frac = dfpoll.groupby(colname)['candidate'].aggregate(lambda x: \n",
    "                                    sum(a == 'Hillary Clinton' for a in x)/len(x)).reset_index()\n",
    "\n",
    "    weight = dfdemographic[(dfdemographic['Demographic_Type_1']==colname) & \n",
    "                           (dfdemographic['Demographic_Type_2'] != dfdemographic['Demographic_Type_2'])]\n",
    "\n",
    "    \n",
    "    raw_frac['weighted'] = np.nan\n",
    "\n",
    "    for i in range(len(raw_frac)):\n",
    "        category = raw_frac[colname][i]\n",
    "        if category!='Refused':\n",
    "            raw_frac['weighted'][i] = weight[weight['Demographic_1']==\n",
    "                                             category]['Electoral_Proportion']*raw_frac['candidate'][i]\n",
    "        else:\n",
    "            raw_frac['weighted'][i] = 0\n",
    "    \n",
    "    clinton_frac = sum(raw_frac['weighted'])\n",
    "\n",
    "    print('Weighted by {}: Clinton: {:.3f}, Trump: {:.3f}'.format(colname, clinton_frac, 1 - clinton_frac))\n",
    "\n",
    "    return 0"
   ]
  },
  {
   "cell_type": "code",
   "execution_count": 12,
   "metadata": {},
   "outputs": [
    {
     "name": "stdout",
     "output_type": "stream",
     "text": [
      "Weighted by age: Clinton: 0.531, Trump: 0.469\n",
      "Weighted by gender: Clinton: 0.550, Trump: 0.450\n",
      "Weighted by party: Clinton: 0.499, Trump: 0.501\n",
      "Weighted by race: Clinton: 0.530, Trump: 0.470\n",
      "Weighted by education: Clinton: 0.544, Trump: 0.456\n"
     ]
    }
   ],
   "source": [
    "types = ['age', 'gender', 'party', 'race', 'education']\n",
    "for colname in types:\n",
    "    single_dimensional_weighting(df,dfdemographic,colname)"
   ]
  },
  {
   "cell_type": "markdown",
   "metadata": {},
   "source": [
    "<font color='green'> Second version:"
   ]
  },
  {
   "cell_type": "code",
   "execution_count": 13,
   "metadata": {},
   "outputs": [],
   "source": [
    "demographic_columns = list(set(dfpoll.columns) - set(['candidate']))\n",
    "def single_dimensional_weighting_Pythonic(dfpoll, dfdemographic, col):\n",
    "    frac_by_col = dfpoll.groupby(col)['candidate'].agg(lambda x: \n",
    "                                np.mean([1 if y == 'Hillary Clinton' else 0 for y in x ])).reset_index()\n",
    "    \n",
    "    weight_by_col = dfdemographic.query(\n",
    "        'Demographic_Type_1 == @col and Demographic_Type_2!=Demographic_Type_2') \n",
    "    # the Demographic_Type_2!=Demographic_Type_2 is a python hack \n",
    "    # because for some reason, np.nan!=np.nan evaluates to True\n",
    "    weight_by_col = weight_by_col.rename(columns = {'Demographic_1':col})\n",
    "    \n",
    "    merged = frac_by_col.merge(weight_by_col[[col, 'Electoral_Proportion']], on = col, how = 'left')\n",
    "    hillary = (merged.eval('candidate*Electoral_Proportion')/merged.Electoral_Proportion.sum()).sum()\n",
    "    \n",
    "    print('Weighted by {} --- Clinton: {:.3f}, Trump: {:.3f}'.format(col, hillary, 1 - hillary))\n",
    "    return hillary"
   ]
  },
  {
   "cell_type": "code",
   "execution_count": 14,
   "metadata": {},
   "outputs": [
    {
     "name": "stdout",
     "output_type": "stream",
     "text": [
      "Weighted by race --- Clinton: 0.530, Trump: 0.470\n",
      "Weighted by education --- Clinton: 0.544, Trump: 0.456\n",
      "Weighted by party --- Clinton: 0.499, Trump: 0.501\n",
      "Weighted by age --- Clinton: 0.531, Trump: 0.469\n",
      "Weighted by gender --- Clinton: 0.550, Trump: 0.450\n"
     ]
    }
   ],
   "source": [
    "for col in demographic_columns:\n",
    "    all_clinton_vals.append(single_dimensional_weighting_Pythonic(df, dfdemographic, col))"
   ]
  },
  {
   "cell_type": "markdown",
   "metadata": {},
   "source": [
    "### 2-dimensional joint distribution weighting"
   ]
  },
  {
   "cell_type": "markdown",
   "metadata": {},
   "source": [
    "**Now, for each pair of demographic types in dfdemographic, do the same -- weight the poll by that pair of demographic types, in accordance to the given joint distributions, and briefly (at most 3 sentences) describe what you observe.**"
   ]
  },
  {
   "cell_type": "markdown",
   "metadata": {},
   "source": [
    "<font color='green'> First version:"
   ]
  },
  {
   "cell_type": "code",
   "execution_count": 15,
   "metadata": {},
   "outputs": [],
   "source": [
    "def two_dimensional_weighting(dfpoll, dfdemographic, colname1, colname2):\n",
    "    if colname1 == colname2:\n",
    "        return 0\n",
    "    # Just to make sure the groupby works, I did not carefully chose the pairs\n",
    "\n",
    "    raw_frac = dfpoll.groupby([colname1,colname2])['candidate'].aggregate(lambda x: \n",
    "                                    sum(a == 'Hillary Clinton' for a in x)/len(x)).reset_index()\n",
    "\n",
    "    weight = dfdemographic[(dfdemographic['Demographic_Type_1']==colname1) & \n",
    "                           (dfdemographic['Demographic_Type_2'] == colname2)]\n",
    "\n",
    "    if weight.empty:\n",
    "        return 0\n",
    "    # If the pairs appear not in the right order, weight would be empty\n",
    "\n",
    "    raw_frac['weighted'] = np.nan\n",
    "\n",
    "    for i in range(len(raw_frac)):\n",
    "        category1 = raw_frac[colname1][i]\n",
    "        category2 = raw_frac[colname2][i]\n",
    "        if (category1!='Refused') & (category2 != 'Refused'):\n",
    "            raw_frac['weighted'][i] = weight[(weight['Demographic_1']==category1) &\n",
    "                                             (weight['Demographic_2']==category2)][\n",
    "                                            'Electoral_Proportion']*raw_frac['candidate'][i]\n",
    "        else:\n",
    "            raw_frac['weighted'][i] = 0\n",
    "    \n",
    "    clinton_frac = sum(raw_frac['weighted'])\n",
    "\n",
    "    print('Weighted by {} and {}: Clinton: {:.3f}, Trump: {:.3f}'.format(\n",
    "        colname1, colname2, clinton_frac, 1 - clinton_frac))\n",
    "\n",
    "    return clinton_frac"
   ]
  },
  {
   "cell_type": "code",
   "execution_count": 16,
   "metadata": {},
   "outputs": [
    {
     "name": "stdout",
     "output_type": "stream",
     "text": [
      "Weighted by age and race: Clinton: 0.525, Trump: 0.475\n",
      "Weighted by age and education: Clinton: 0.525, Trump: 0.475\n",
      "Weighted by gender and age: Clinton: 0.533, Trump: 0.467\n",
      "Weighted by gender and race: Clinton: 0.535, Trump: 0.465\n",
      "Weighted by gender and education: Clinton: 0.548, Trump: 0.452\n",
      "Weighted by party and age: Clinton: 0.498, Trump: 0.502\n",
      "Weighted by party and gender: Clinton: 0.503, Trump: 0.497\n",
      "Weighted by party and race: Clinton: 0.501, Trump: 0.499\n",
      "Weighted by party and education: Clinton: 0.494, Trump: 0.506\n",
      "Weighted by race and education: Clinton: 0.514, Trump: 0.486\n"
     ]
    }
   ],
   "source": [
    "joint_marginal_compare = pd.DataFrame(columns = ['Demo1', 'Demo2', 'Joint'])\n",
    "types = ['age', 'gender', 'party', 'race', 'education']\n",
    "for colname1 in types:\n",
    "    for colname2 in types:\n",
    "        joint_weighted = two_dimensional_weighting(df,dfdemographic,colname1, colname2)\n",
    "        if joint_weighted!=0:\n",
    "            joint_marginal_compare = joint_marginal_compare.append(\n",
    "                {'Demo1':colname1, 'Demo2':colname2, 'Joint':joint_weighted}, ignore_index=True)"
   ]
  },
  {
   "cell_type": "markdown",
   "metadata": {},
   "source": [
    "<font color='green'> Second version"
   ]
  },
  {
   "cell_type": "code",
   "execution_count": 17,
   "metadata": {},
   "outputs": [],
   "source": [
    "# hack so that I don't have to figure out which order the (col, col2) pair is in for the proportion dataframe\n",
    "dfdemographic_repeated = dfdemographic.rename(columns = {\n",
    "    \"Demographic_Type_2\":\"Demographic_Type_1\", \n",
    "    \"Demographic_Type_1\":\"Demographic_Type_2\", \n",
    "    \"Demographic_2\":\"Demographic_1\", \"Demographic_1\":\"Demographic_2\"})\n",
    "dfdemographic_repeated = pd.concat([dfdemographic_repeated, dfdemographic])"
   ]
  },
  {
   "cell_type": "code",
   "execution_count": 18,
   "metadata": {},
   "outputs": [],
   "source": [
    "def two_dimensional_weighting_Pythonic(dfpoll, dfdemographic, col, col2, do_print =  False):\n",
    "    frac_by_col = dfpoll.groupby([col, col2])['candidate'].agg(lambda x: \n",
    "                            np.mean([1 if y == 'Hillary Clinton' else 0 for y in x ])).reset_index()\n",
    "    \n",
    "    weight_by_col = dfdemographic.query('Demographic_Type_1 == @col and Demographic_Type_2==@col2')\n",
    "    weight_by_col = weight_by_col.rename(columns = {'Demographic_1':col, 'Demographic_2':col2})\n",
    "    \n",
    "    merged = frac_by_col.merge(weight_by_col[[col, col2,'Electoral_Proportion']], on = [col, col2], how = 'left')\n",
    "    hillary = (merged.eval('candidate*Electoral_Proportion')/merged.Electoral_Proportion.sum()).sum()\n",
    "\n",
    "    \n",
    "    if do_print:\n",
    "        print(frac_by_col.head())\n",
    "        print(weight_by_col.head())        \n",
    "        print(merged.head())\n",
    "    \n",
    "    print('Weighted by {} and {} --- Clinton: {:.3f}, Trump: {:.3f}'.format(col,col2, hillary, 1 - hillary))\n",
    "    return hillary"
   ]
  },
  {
   "cell_type": "code",
   "execution_count": 19,
   "metadata": {},
   "outputs": [
    {
     "name": "stdout",
     "output_type": "stream",
     "text": [
      "Weighted by race and education --- Clinton: 0.514, Trump: 0.486\n",
      "Weighted by race and party --- Clinton: 0.501, Trump: 0.499\n",
      "Weighted by race and age --- Clinton: 0.525, Trump: 0.475\n",
      "Weighted by race and gender --- Clinton: 0.535, Trump: 0.465\n",
      "Weighted by education and party --- Clinton: 0.494, Trump: 0.506\n",
      "Weighted by education and age --- Clinton: 0.525, Trump: 0.475\n",
      "Weighted by education and gender --- Clinton: 0.548, Trump: 0.452\n",
      "Weighted by party and age --- Clinton: 0.498, Trump: 0.502\n",
      "Weighted by party and gender --- Clinton: 0.503, Trump: 0.497\n",
      "Weighted by age and gender --- Clinton: 0.533, Trump: 0.467\n"
     ]
    }
   ],
   "source": [
    "for en, col in enumerate(demographic_columns):\n",
    "    for col2 in demographic_columns[en+1:]:\n",
    "        all_clinton_vals.append(two_dimensional_weighting_Pythonic(df, dfdemographic_repeated, col, col2))"
   ]
  },
  {
   "cell_type": "markdown",
   "metadata": {},
   "source": [
    "### 3) 2-dimensional marginal "
   ]
  },
  {
   "cell_type": "markdown",
   "metadata": {
    "ExecuteTime": {
     "end_time": "2021-09-01T18:25:18.040978Z",
     "start_time": "2021-09-01T18:25:18.016981Z"
    }
   },
   "source": [
    "**We don't always have access to joint distributions across the population -- for example, it may be hard to estimate from past exit polls (surveys done as people are leaving the polling station) what the joint distribution of education and gender is, for example. However, access to marginal distributions are often available.**\n",
    "\n",
    "**As discussed in class, one strategy when you don't have access to joint distributions -- only marginals -- is to _multiply_ the marginal distributions. For example, if 50% of your population is Democratic and 50% is a woman, then pretend that 50% times 50% = 25% of your population is a Democratic women. Clearly this technique is not perfect, but it is sometimes a useful heuristic.**\n",
    "\n",
    "**For the following pairs of Demographic types, report the weighting results if you use the joint distributions in dfdemographic versus if you approximate the joint distribution using the marginals. Briefly (at most 3 sentences) describe what you observe.**\n",
    "\n",
    "**(party, gender)**\n",
    "\n",
    "**(race, gender)**"
   ]
  },
  {
   "cell_type": "code",
   "execution_count": 20,
   "metadata": {},
   "outputs": [],
   "source": [
    "def two_dimensional_marginal_weighting(dfpoll, dfdemographic, colname1, colname2):\n",
    "    if colname1 == colname2:\n",
    "        return 0\n",
    "    # Just to make sure the groupby works, I did not carefully chose the pairs\n",
    "\n",
    "    raw_frac = dfpoll.groupby([colname1,colname2])['candidate'].aggregate(lambda x: \n",
    "                                    sum(a == 'Hillary Clinton' for a in x)/len(x)).reset_index()\n",
    "\n",
    "    weight = dfdemographic[((dfdemographic['Demographic_Type_1']==colname1) | \n",
    "                            (dfdemographic['Demographic_Type_1'] == colname2)) & \n",
    "                            (dfdemographic['Demographic_Type_2']!=dfdemographic['Demographic_Type_2'])]\n",
    "\n",
    "    if weight.empty:\n",
    "        return 0\n",
    "    # If the pairs appear not in the right order, weight would be empty\n",
    "\n",
    "    raw_frac['weighted'] = np.nan\n",
    "\n",
    "    for i in range(len(raw_frac)):\n",
    "        category1 = raw_frac[colname1][i]\n",
    "        category2 = raw_frac[colname2][i]\n",
    "        if (category1!='Refused') & (category2 != 'Refused'):\n",
    "            weight1 = weight[(weight['Demographic_1']==category1)]['Electoral_Proportion']\n",
    "            weight2 = weight[(weight['Demographic_1']==category2)]['Electoral_Proportion']\n",
    "            raw_frac['weighted'][i] = float(weight1)*weight2*raw_frac['candidate'][i]\n",
    "        else:\n",
    "            raw_frac['weighted'][i] = 0\n",
    "    \n",
    "    clinton_frac = sum(raw_frac['weighted'])\n",
    "\n",
    "    # print('Weighted by {} and {}: Clinton: {:.3f}, Trump: {:.3f}'.format(\n",
    "    # colname1, colname2, clinton_frac, 1 - clinton_frac))\n",
    "\n",
    "    return clinton_frac"
   ]
  },
  {
   "cell_type": "code",
   "execution_count": 21,
   "metadata": {},
   "outputs": [],
   "source": [
    "joint_marginal_compare['Marginal'] = np.nan\n",
    "types = ['age', 'gender', 'party', 'race', 'education']\n",
    "for colname1 in types:\n",
    "    for colname2 in types:\n",
    "        if joint_marginal_compare[(joint_marginal_compare['Demo1']==colname1) & \n",
    "                                  (joint_marginal_compare['Demo2']==colname2)].empty:\n",
    "            continue\n",
    "        else:\n",
    "            marginal_weighted = two_dimensional_marginal_weighting(df,dfdemographic,colname1, colname2)\n",
    "            joint_marginal_compare.loc[(joint_marginal_compare['Demo1']==colname1) & \n",
    "                            (joint_marginal_compare['Demo2']==colname2),'Marginal'] = marginal_weighted\n",
    "        "
   ]
  },
  {
   "cell_type": "code",
   "execution_count": 22,
   "metadata": {},
   "outputs": [
    {
     "data": {
      "text/html": [
       "<div>\n",
       "<style scoped>\n",
       "    .dataframe tbody tr th:only-of-type {\n",
       "        vertical-align: middle;\n",
       "    }\n",
       "\n",
       "    .dataframe tbody tr th {\n",
       "        vertical-align: top;\n",
       "    }\n",
       "\n",
       "    .dataframe thead th {\n",
       "        text-align: right;\n",
       "    }\n",
       "</style>\n",
       "<table border=\"1\" class=\"dataframe\">\n",
       "  <thead>\n",
       "    <tr style=\"text-align: right;\">\n",
       "      <th></th>\n",
       "      <th>Demo1</th>\n",
       "      <th>Demo2</th>\n",
       "      <th>Joint</th>\n",
       "      <th>Marginal</th>\n",
       "      <th>Difference</th>\n",
       "    </tr>\n",
       "  </thead>\n",
       "  <tbody>\n",
       "    <tr>\n",
       "      <th>0</th>\n",
       "      <td>age</td>\n",
       "      <td>race</td>\n",
       "      <td>0.524516</td>\n",
       "      <td>0.524900</td>\n",
       "      <td>-0.000384</td>\n",
       "    </tr>\n",
       "    <tr>\n",
       "      <th>1</th>\n",
       "      <td>age</td>\n",
       "      <td>education</td>\n",
       "      <td>0.525483</td>\n",
       "      <td>0.523902</td>\n",
       "      <td>0.001581</td>\n",
       "    </tr>\n",
       "    <tr>\n",
       "      <th>2</th>\n",
       "      <td>gender</td>\n",
       "      <td>age</td>\n",
       "      <td>0.533289</td>\n",
       "      <td>0.533620</td>\n",
       "      <td>-0.000332</td>\n",
       "    </tr>\n",
       "    <tr>\n",
       "      <th>3</th>\n",
       "      <td>gender</td>\n",
       "      <td>race</td>\n",
       "      <td>0.534816</td>\n",
       "      <td>0.534844</td>\n",
       "      <td>-0.000029</td>\n",
       "    </tr>\n",
       "    <tr>\n",
       "      <th>4</th>\n",
       "      <td>gender</td>\n",
       "      <td>education</td>\n",
       "      <td>0.547578</td>\n",
       "      <td>0.547463</td>\n",
       "      <td>0.000115</td>\n",
       "    </tr>\n",
       "    <tr>\n",
       "      <th>5</th>\n",
       "      <td>party</td>\n",
       "      <td>age</td>\n",
       "      <td>0.497992</td>\n",
       "      <td>0.495606</td>\n",
       "      <td>0.002386</td>\n",
       "    </tr>\n",
       "    <tr>\n",
       "      <th>6</th>\n",
       "      <td>party</td>\n",
       "      <td>gender</td>\n",
       "      <td>0.502921</td>\n",
       "      <td>0.503802</td>\n",
       "      <td>-0.000881</td>\n",
       "    </tr>\n",
       "    <tr>\n",
       "      <th>7</th>\n",
       "      <td>party</td>\n",
       "      <td>race</td>\n",
       "      <td>0.501144</td>\n",
       "      <td>0.519659</td>\n",
       "      <td>-0.018514</td>\n",
       "    </tr>\n",
       "    <tr>\n",
       "      <th>8</th>\n",
       "      <td>party</td>\n",
       "      <td>education</td>\n",
       "      <td>0.493501</td>\n",
       "      <td>0.493715</td>\n",
       "      <td>-0.000214</td>\n",
       "    </tr>\n",
       "    <tr>\n",
       "      <th>9</th>\n",
       "      <td>race</td>\n",
       "      <td>education</td>\n",
       "      <td>0.514272</td>\n",
       "      <td>0.507151</td>\n",
       "      <td>0.007121</td>\n",
       "    </tr>\n",
       "  </tbody>\n",
       "</table>\n",
       "</div>"
      ],
      "text/plain": [
       "    Demo1      Demo2     Joint  Marginal  Difference\n",
       "0     age       race  0.524516  0.524900   -0.000384\n",
       "1     age  education  0.525483  0.523902    0.001581\n",
       "2  gender        age  0.533289  0.533620   -0.000332\n",
       "3  gender       race  0.534816  0.534844   -0.000029\n",
       "4  gender  education  0.547578  0.547463    0.000115\n",
       "5   party        age  0.497992  0.495606    0.002386\n",
       "6   party     gender  0.502921  0.503802   -0.000881\n",
       "7   party       race  0.501144  0.519659   -0.018514\n",
       "8   party  education  0.493501  0.493715   -0.000214\n",
       "9    race  education  0.514272  0.507151    0.007121"
      ]
     },
     "execution_count": 22,
     "metadata": {},
     "output_type": "execute_result"
    }
   ],
   "source": [
    "joint_marginal_compare['Difference'] = joint_marginal_compare['Joint']-joint_marginal_compare['Marginal']\n",
    "joint_marginal_compare"
   ]
  },
  {
   "cell_type": "code",
   "execution_count": 22,
   "metadata": {},
   "outputs": [
    {
     "name": "stdout",
     "output_type": "stream",
     "text": [
      "|    | Demo1   | Demo2     |    Joint |\n",
      "|---:|:--------|:----------|---------:|\n",
      "|  0 | age     | race      | 0.524516 |\n",
      "|  1 | age     | education | 0.525483 |\n"
     ]
    }
   ],
   "source": [
    "print(joint_marginal_compare.head(2).to_markdown())"
   ]
  },
  {
   "cell_type": "code",
   "execution_count": 23,
   "metadata": {},
   "outputs": [],
   "source": [
    "all_clinton_vals.extend(joint_marginal_compare.Marginal)"
   ]
  },
  {
   "cell_type": "markdown",
   "metadata": {},
   "source": [
    "### 4) Bonus points (up to 3 points): Implement a \"cheap\" version of the MRP technique mentioned in class.\n",
    "\n",
    "**The above techniques use the mean answer among people who share a demographic as the estimate for that demographic. But that wastes information _across_ demographics. For example, maybe people who only have \"Some College\" are similar enough to people who have \"High School\" as to provide some useful information.**\n",
    "\n",
    "**First, do the following: use a logistic regression (or your favorite prediction tool) to predict candidate choice, using the demographics. You might want to convert some demographics (like education) to ordered numeric (e.g., 1, 2, 3) as opposed to using discrete categories.**\n",
    "\n",
    "**Here, you will earn partial bonus points by just reporting the predictions and comparing them to the means of each covariate group in the raw polling data. Give a scatter-plot, where each point is one combination of full demographics (age, gender, party, race/ethnicity, education), the X axis is the raw polling average for that combination, and the Y axis is your regression prediction for that combination.**   \n",
    "\n",
    "**Then, once you have predictions for each set of covariates, \"post-stratify\" to get a single population estimate by plugging them into the above weighting techniques, where you use the predictions instead of the raw averages in that cell. Report the resulting estimates if you do the 2-dimensional joint weighting (on every pair).**\n",
    "\n"
   ]
  },
  {
   "cell_type": "markdown",
   "metadata": {},
   "source": [
    "<font color = 'green'> For this bonus question, you will get 1 point if you attempted training a regression model and used that to predict the mean response in different demographic groups; you will get 3 points if you ended up with a final estimate using results from the regression model, and your code was able to justify the estimate."
   ]
  },
  {
   "cell_type": "markdown",
   "metadata": {},
   "source": [
    "### 5) Bonus points (up to 2 points): Implement full \"raking\" using all the demographic covariates, i.e., match all the marginals without assuming independence, as opposed to just one or two marginal distributions.\n",
    "\n",
    "**You may use existing python packages, such as [here](https://quantipy.readthedocs.io/en/staging-develop/sites/lib_doc/weights/01_background.html#the-statistical-problem). Another approach would be to use [rpy2](https://rpy2.github.io/doc/latest/html/introduction.html) to call `R`, as there are many well-maintained packages in `R` to analyze polling data. One example is [here](https://www.rdocumentation.org/packages/survey/versions/4.1-1/topics/rake).**"
   ]
  },
  {
   "cell_type": "markdown",
   "metadata": {},
   "source": [
    "<font color = 'green'>  Very few people attempted this question. You will get 2 points if you demonstrated that you understood the concept of raking and were able to get a final estimate."
   ]
  },
  {
   "cell_type": "markdown",
   "metadata": {},
   "source": [
    "## Part C: Uncertainty analysis and choices"
   ]
  },
  {
   "cell_type": "markdown",
   "metadata": {},
   "source": [
    "### 1) Education weighting analysis and \"refused\" answers"
   ]
  },
  {
   "cell_type": "markdown",
   "metadata": {},
   "source": [
    "**i. In Part B, you should notice a discrepancy from what we said in class and the data -- weighting by education does _not_ seem to help much in reducing the polling average from being pro-Clinton. Dig into the data to see why the methods we tried above might not be perfect, and what data you would want (such as demographic joint distribution) to do better. Discuss in 5 sentences or less. Especially convincing would be plots/calculations on what would happen under hypothetical data.**\n",
    "\n",
    "**Hint: Look at polling average broken up by just education, and then broken up by education and other covariates. Especially helpful may be the following pandas command:**\n",
    "\n",
    "`dfpoll.groupby(['education', ...])['candidate'].value_counts(normalize = True)`\n",
    "\n",
    "**where ... is replaced by other columns**"
   ]
  },
  {
   "cell_type": "code",
   "execution_count": 24,
   "metadata": {},
   "outputs": [
    {
     "data": {
      "text/plain": [
       "education     candidate      \n",
       "College       Hillary Clinton    0.552381\n",
       "              Donald Trump       0.447619\n",
       "High School   Hillary Clinton    0.534247\n",
       "              Donald Trump       0.465753\n",
       "Refused       Donald Trump       0.600000\n",
       "              Hillary Clinton    0.400000\n",
       "Some College  Hillary Clinton    0.547244\n",
       "              Donald Trump       0.452756\n",
       "Name: candidate, dtype: float64"
      ]
     },
     "execution_count": 24,
     "metadata": {},
     "output_type": "execute_result"
    }
   ],
   "source": [
    "df.groupby(['education'])['candidate'].value_counts(normalize = True)"
   ]
  },
  {
   "cell_type": "code",
   "execution_count": 25,
   "metadata": {},
   "outputs": [
    {
     "data": {
      "text/plain": [
       "education     race      candidate      \n",
       "College       Black     Hillary Clinton    0.884615\n",
       "                        Donald Trump       0.115385\n",
       "              Hispanic  Hillary Clinton    0.771930\n",
       "                        Donald Trump       0.228070\n",
       "              Other     Hillary Clinton    0.666667\n",
       "                        Donald Trump       0.333333\n",
       "              Refused   Donald Trump       0.500000\n",
       "                        Hillary Clinton    0.500000\n",
       "              White     Donald Trump       0.555024\n",
       "                        Hillary Clinton    0.444976\n",
       "High School   Black     Hillary Clinton    0.925926\n",
       "                        Donald Trump       0.074074\n",
       "              Hispanic  Hillary Clinton    0.833333\n",
       "                        Donald Trump       0.166667\n",
       "              Other     Donald Trump       0.600000\n",
       "                        Hillary Clinton    0.400000\n",
       "              Refused   Donald Trump       1.000000\n",
       "              White     Donald Trump       0.727273\n",
       "                        Hillary Clinton    0.272727\n",
       "Refused       Black     Hillary Clinton    1.000000\n",
       "              Hispanic  Donald Trump       1.000000\n",
       "              Refused   Donald Trump       0.666667\n",
       "                        Hillary Clinton    0.333333\n",
       "Some College  Black     Hillary Clinton    1.000000\n",
       "              Hispanic  Hillary Clinton    0.734694\n",
       "                        Donald Trump       0.265306\n",
       "              Other     Hillary Clinton    0.800000\n",
       "                        Donald Trump       0.200000\n",
       "              Refused   Donald Trump       0.600000\n",
       "                        Hillary Clinton    0.400000\n",
       "              White     Donald Trump       0.598765\n",
       "                        Hillary Clinton    0.401235\n",
       "Name: candidate, dtype: float64"
      ]
     },
     "execution_count": 25,
     "metadata": {},
     "output_type": "execute_result"
    }
   ],
   "source": [
    "df.groupby(['education', 'race'])['candidate'].value_counts(normalize = True)"
   ]
  },
  {
   "cell_type": "code",
   "execution_count": 26,
   "metadata": {},
   "outputs": [
    {
     "data": {
      "text/plain": [
       "education     race      candidate      \n",
       "College       Black     Hillary Clinton     23\n",
       "                        Donald Trump         3\n",
       "              Hispanic  Hillary Clinton     44\n",
       "                        Donald Trump        13\n",
       "              Other     Hillary Clinton     10\n",
       "                        Donald Trump         5\n",
       "              Refused   Donald Trump         4\n",
       "                        Hillary Clinton      4\n",
       "              White     Donald Trump       116\n",
       "                        Hillary Clinton     93\n",
       "High School   Black     Hillary Clinton     25\n",
       "                        Donald Trump         2\n",
       "              Hispanic  Hillary Clinton     30\n",
       "                        Donald Trump         6\n",
       "              Other     Donald Trump         3\n",
       "                        Hillary Clinton      2\n",
       "              Refused   Donald Trump         1\n",
       "              White     Donald Trump        56\n",
       "                        Hillary Clinton     21\n",
       "Refused       Black     Hillary Clinton      1\n",
       "              Hispanic  Donald Trump         1\n",
       "              Refused   Donald Trump         2\n",
       "                        Hillary Clinton      1\n",
       "Some College  Black     Hillary Clinton     28\n",
       "              Hispanic  Hillary Clinton     36\n",
       "                        Donald Trump        13\n",
       "              Other     Hillary Clinton      8\n",
       "                        Donald Trump         2\n",
       "              Refused   Donald Trump         3\n",
       "                        Hillary Clinton      2\n",
       "              White     Donald Trump        97\n",
       "                        Hillary Clinton     65\n",
       "Name: candidate, dtype: int64"
      ]
     },
     "execution_count": 26,
     "metadata": {},
     "output_type": "execute_result"
    }
   ],
   "source": [
    "df.groupby(['education', 'race'])['candidate'].value_counts(normalize = False)"
   ]
  },
  {
   "cell_type": "markdown",
   "metadata": {},
   "source": [
    "<font color='green'> We see that education weighting by itself does not help much, because education interacts with race (or with party) quite a bit -- (High School, Black) and (High School, White) behave quite differently, and weighting just by education does not disambiguate between the two. That joint weighting (with party + race) would (and in fact, does) do well"
   ]
  },
  {
   "cell_type": "markdown",
   "metadata": {},
   "source": [
    "**ii. You'll notice that there are many responses with \"refused,\" and that those people in particular are Trump-leaning. The weighting techniques we used above would ignore these people. How would you adjust your procedures/estimates above to take them into account? Especially convincing would be plots/calculations on what would happen under hypothetical data. Answer in at most 3 sentences.**"
   ]
  },
  {
   "cell_type": "markdown",
   "metadata": {},
   "source": [
    "<font color='green'> Here we see that those who refused to answer demographic questions are especially likely to vote for Trump. That suggests (1) that refusing to answer correlates with political opinion, and so we cannot just ignore them, and (2) we likely have some other unmeasured confounding for people just refusing to answer the poll at all, instead of specific questions. \n",
    "    \n",
    "<font color='green'> Several ways you can proceed is to check the \"range\" of how much the demographic refusals affected your answer -- if you pretend that all the \"refused\" belong to a certain group, what would the estimate be? Do this for each demographic type and value."
   ]
  },
  {
   "cell_type": "markdown",
   "metadata": {},
   "source": [
    "**None of the above techniques deal with selection biases/non-response on _un-measured_ covariates. Do you think that may be an important concern in this dataset? Why or why not? Respond in 3 or fewer sentences.**"
   ]
  },
  {
   "cell_type": "markdown",
   "metadata": {},
   "source": [
    "<font color='green'> See (2) above -- the number of refusals on demographics and that they are disproportionately for Trump suggest to me that there is probably some more unmeasuring selection bias going on and that it is important. One way to quantify uncertainty is as discussed in class -- think about the percentage of the population that you think didn't respond, and how their average opinions might differ from those who did."
   ]
  },
  {
   "cell_type": "markdown",
   "metadata": {},
   "source": [
    "### 2) Final estimates"
   ]
  },
  {
   "cell_type": "markdown",
   "metadata": {},
   "source": [
    "**Throughout this homework, you made many estimates of the same quantity -- the fraction of people who will vote for Clinton in Florida. Below, plot a histogram of all your estimates.**"
   ]
  },
  {
   "cell_type": "code",
   "execution_count": 27,
   "metadata": {},
   "outputs": [
    {
     "data": {
      "text/plain": [
       "(array([8., 2., 5., 6., 5.]),\n",
       " array([0.49350088, 0.50476538, 0.51602987, 0.52729436, 0.53855886,\n",
       "        0.54982335]),\n",
       " <BarContainer object of 5 artists>)"
      ]
     },
     "execution_count": 27,
     "metadata": {},
     "output_type": "execute_result"
    },
    {
     "data": {
      "image/png": "[encoded data removed]",
      "text/plain": [
       "<Figure size 432x288 with 1 Axes>"
      ]
     },
     "metadata": {
      "needs_background": "light"
     },
     "output_type": "display_data"
    }
   ],
   "source": [
    "plt.hist(all_clinton_vals, bins = 5)"
   ]
  },
  {
   "cell_type": "markdown",
   "metadata": {},
   "source": [
    "<font color='green'> Estimates vary by 5%, purely because of different weightings!"
   ]
  },
  {
   "cell_type": "markdown",
   "metadata": {},
   "source": [
    "**Given all your above analysis, if you were a pollster what would you report as your single estimate?**"
   ]
  },
  {
   "cell_type": "code",
   "execution_count": 28,
   "metadata": {},
   "outputs": [
    {
     "data": {
      "text/plain": [
       "0.501"
      ]
     },
     "execution_count": 28,
     "metadata": {},
     "output_type": "execute_result"
    }
   ],
   "source": [
    ".501"
   ]
  },
  {
   "cell_type": "markdown",
   "metadata": {},
   "source": [
    "**Justify your choice, in at most 3 sentences**"
   ]
  },
  {
   "cell_type": "markdown",
   "metadata": {},
   "source": [
    "<font color='green'> I went with weighting by party and race -- if you have access to party (which is not always there in every state), it is often reasonable to weight by that -- as that often correlates most with your target of interest in politics! Then, I chose race because I thought that political opinion might vary with race, even conditional on party. There are of course many reasonable answers here, as long as you justified it."
   ]
  },
  {
   "cell_type": "markdown",
   "metadata": {},
   "source": [
    "**Though we did not discuss how to calculate margin of error or standard errors with weighting in this course, what would you say if someone asked you how confident you are in your estimate? You may either qualitatively answer, or try to come up with a margin of error.**"
   ]
  },
  {
   "cell_type": "code",
   "execution_count": null,
   "metadata": {},
   "outputs": [],
   "source": []
  }
 ],
 "metadata": {
  "kernelspec": {
   "display_name": "Python 3.9.12 ('base')",
   "language": "python",
   "name": "python3"
  },
  "language_info": {
   "codemirror_mode": {
    "name": "ipython",
    "version": 3
   },
   "file_extension": ".py",
   "mimetype": "text/x-python",
   "name": "python",
   "nbconvert_exporter": "python",
   "pygments_lexer": "ipython3",
   "version": "3.9.12"
  },
  "varInspector": {
   "cols": {
    "lenName": 16,
    "lenType": 16,
    "lenVar": 40
   },
   "kernels_config": {
    "python": {
     "delete_cmd_postfix": "",
     "delete_cmd_prefix": "del ",
     "library": "var_list.py",
     "varRefreshCmd": "print(var_dic_list())"
    },
    "r": {
     "delete_cmd_postfix": ") ",
     "delete_cmd_prefix": "rm(",
     "library": "var_list.r",
     "varRefreshCmd": "cat(var_dic_list()) "
    }
   },
   "types_to_exclude": [
    "module",
    "function",
    "builtin_function_or_method",
    "instance",
    "_Feature"
   ],
   "window_display": false
  },
  "vscode": {
   "interpreter": {
    "hash": "08c7ecce80b69c620dde7c8919fa94d3baa2217d665b4d1ca74ed6f93561aaf3"
   }
  }
 },
 "nbformat": 4,
 "nbformat_minor": 4
}
